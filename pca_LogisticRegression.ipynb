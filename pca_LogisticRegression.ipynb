{
 "cells": [
  {
   "cell_type": "code",
   "execution_count": 1,
   "metadata": {
    "colab": {
     "base_uri": "https://localhost:8080/",
     "height": 128
    },
    "id": "IgfxPUamHUon",
    "outputId": "2220bdde-f508-4535-942a-1a873424382c"
   },
   "outputs": [
    {
     "name": "stdout",
     "output_type": "stream",
     "text": [
      "[0.3275794  0.1257762  0.10568402 0.05863195 0.04475674 0.03361112\n",
      " 0.03214146 0.02888541 0.02843898 0.02562268 0.02502078 0.02301277\n",
      " 0.02105718 0.01952697 0.0158941  0.01574302 0.0137743  0.0116017\n",
      " 0.00948355 0.0081536  0.00686005 0.00419308 0.00336021 0.00319655]\n",
      "(1192, 38)\n",
      "(1192, 24)\n"
     ]
    }
   ],
   "source": [
    "#PCA with scaling\n",
    "\n",
    "import pandas as pd\n",
    "from sklearn.preprocessing import StandardScaler\n",
    "from sklearn.decomposition import PCA\n",
    "\n",
    "features = pd.read_csv(\"features.csv\")\n",
    "labels = pd.read_csv(\"labels.csv\")\n",
    "\n",
    "scaled_features = StandardScaler().fit_transform(features)\n",
    "pca = PCA(.99)\n",
    "pca.fit(scaled_features)\n",
    "reduced_features = pca.transform(scaled_features)\n",
    "print(pca.explained_variance_ratio_)\n",
    "print(features.shape)\n",
    "print(reduced_features.shape)\n",
    "pd.DataFrame(reduced_features).to_csv(\"reduced_features.csv\", index=False)"
   ]
  },
  {
   "cell_type": "code",
   "execution_count": 2,
   "metadata": {
    "colab": {
     "base_uri": "https://localhost:8080/",
     "height": 73
    },
    "id": "gyFvMNArLmxf",
    "outputId": "e4df1a1d-e3cb-49ce-e76e-a410cf7811ed"
   },
   "outputs": [
    {
     "name": "stdout",
     "output_type": "stream",
     "text": [
      "[0.98562937 0.00987983]\n",
      "(1192, 38)\n",
      "(1192, 2)\n"
     ]
    }
   ],
   "source": [
    "#PCA without scaling\n",
    "\n",
    "import pandas as pd\n",
    "from sklearn.preprocessing import StandardScaler\n",
    "from sklearn.decomposition import PCA\n",
    "\n",
    "features = pd.read_csv(\"features.csv\")\n",
    "labels = pd.read_csv(\"labels.csv\")\n",
    "\n",
    "pca = PCA(.99)\n",
    "pca.fit(features)\n",
    "reduced_features = pca.transform(features)\n",
    "print(pca.explained_variance_ratio_)\n",
    "print(features.shape)\n",
    "print(reduced_features.shape)\n",
    "pd.DataFrame(reduced_features).to_csv(\"reduced_features.csv\", index=False)\n"
   ]
  },
  {
   "cell_type": "code",
   "execution_count": 3,
   "metadata": {},
   "outputs": [
    {
     "data": {
      "text/plain": [
       "<matplotlib.collections.PathCollection at 0x130656c7898>"
      ]
     },
     "execution_count": 3,
     "metadata": {},
     "output_type": "execute_result"
    }
   ],
   "source": [
    "import matplotlib.pyplot as plt\n",
    "noscalePCA = pd.DataFrame(reduced_features)\n",
    "fig, ax = plt.subplots()\n",
    "ax.scatter(noscalePCA.iloc[:,0],noscalePCA.iloc[:,1])"
   ]
  },
  {
   "cell_type": "code",
   "execution_count": 4,
   "metadata": {},
   "outputs": [],
   "source": [
    "df = pd.read_csv(\"standard_train_features.csv\")"
   ]
  },
  {
   "cell_type": "code",
   "execution_count": 5,
   "metadata": {},
   "outputs": [
    {
     "name": "stdout",
     "output_type": "stream",
     "text": [
      "(834, 38)\n"
     ]
    },
    {
     "data": {
      "text/html": [
       "<div>\n",
       "<style scoped>\n",
       "    .dataframe tbody tr th:only-of-type {\n",
       "        vertical-align: middle;\n",
       "    }\n",
       "\n",
       "    .dataframe tbody tr th {\n",
       "        vertical-align: top;\n",
       "    }\n",
       "\n",
       "    .dataframe thead th {\n",
       "        text-align: right;\n",
       "    }\n",
       "</style>\n",
       "<table border=\"1\" class=\"dataframe\">\n",
       "  <thead>\n",
       "    <tr style=\"text-align: right;\">\n",
       "      <th></th>\n",
       "      <th>Year</th>\n",
       "      <th>Age</th>\n",
       "      <th>Ht</th>\n",
       "      <th>Wt</th>\n",
       "      <th>BMI</th>\n",
       "      <th>G</th>\n",
       "      <th>GS</th>\n",
       "      <th>Cmp</th>\n",
       "      <th>Att</th>\n",
       "      <th>Cmp%</th>\n",
       "      <th>...</th>\n",
       "      <th>GWD</th>\n",
       "      <th>Att.1</th>\n",
       "      <th>Yds.2</th>\n",
       "      <th>Y/A.1</th>\n",
       "      <th>TD.1</th>\n",
       "      <th>Y/G.1</th>\n",
       "      <th>2PM</th>\n",
       "      <th>Pts</th>\n",
       "      <th>PB</th>\n",
       "      <th>AP1</th>\n",
       "    </tr>\n",
       "  </thead>\n",
       "  <tbody>\n",
       "    <tr>\n",
       "      <th>0</th>\n",
       "      <td>1.196638</td>\n",
       "      <td>0.645551</td>\n",
       "      <td>1.189409</td>\n",
       "      <td>1.448029</td>\n",
       "      <td>0.706525</td>\n",
       "      <td>0.923466</td>\n",
       "      <td>1.005274</td>\n",
       "      <td>1.533850</td>\n",
       "      <td>1.375902</td>\n",
       "      <td>0.986836</td>\n",
       "      <td>...</td>\n",
       "      <td>0.886266</td>\n",
       "      <td>-0.177352</td>\n",
       "      <td>-0.186413</td>\n",
       "      <td>0.064312</td>\n",
       "      <td>-0.126348</td>\n",
       "      <td>-0.398269</td>\n",
       "      <td>-0.233451</td>\n",
       "      <td>-0.144373</td>\n",
       "      <td>-0.496625</td>\n",
       "      <td>-0.156748</td>\n",
       "    </tr>\n",
       "    <tr>\n",
       "      <th>1</th>\n",
       "      <td>1.403992</td>\n",
       "      <td>-0.561060</td>\n",
       "      <td>-1.352467</td>\n",
       "      <td>-0.298236</td>\n",
       "      <td>0.778252</td>\n",
       "      <td>0.461179</td>\n",
       "      <td>0.623837</td>\n",
       "      <td>0.321464</td>\n",
       "      <td>0.195808</td>\n",
       "      <td>0.893421</td>\n",
       "      <td>...</td>\n",
       "      <td>0.211863</td>\n",
       "      <td>3.270778</td>\n",
       "      <td>3.246480</td>\n",
       "      <td>0.982442</td>\n",
       "      <td>1.639706</td>\n",
       "      <td>3.178560</td>\n",
       "      <td>3.660515</td>\n",
       "      <td>1.789876</td>\n",
       "      <td>2.013590</td>\n",
       "      <td>-0.156748</td>\n",
       "    </tr>\n",
       "    <tr>\n",
       "      <th>2</th>\n",
       "      <td>-0.358519</td>\n",
       "      <td>0.645551</td>\n",
       "      <td>0.553940</td>\n",
       "      <td>-0.222311</td>\n",
       "      <td>-0.728026</td>\n",
       "      <td>-0.925683</td>\n",
       "      <td>-0.711192</td>\n",
       "      <td>-1.036772</td>\n",
       "      <td>-1.024779</td>\n",
       "      <td>-0.631178</td>\n",
       "      <td>...</td>\n",
       "      <td>-0.462540</td>\n",
       "      <td>-1.028189</td>\n",
       "      <td>-0.896414</td>\n",
       "      <td>-1.689880</td>\n",
       "      <td>-0.715033</td>\n",
       "      <td>-1.011737</td>\n",
       "      <td>-0.233451</td>\n",
       "      <td>-0.724647</td>\n",
       "      <td>-0.496625</td>\n",
       "      <td>-0.156748</td>\n",
       "    </tr>\n",
       "    <tr>\n",
       "      <th>3</th>\n",
       "      <td>1.092961</td>\n",
       "      <td>1.610840</td>\n",
       "      <td>0.553940</td>\n",
       "      <td>0.309160</td>\n",
       "      <td>-0.082478</td>\n",
       "      <td>0.923466</td>\n",
       "      <td>1.005274</td>\n",
       "      <td>1.770858</td>\n",
       "      <td>1.682495</td>\n",
       "      <td>0.764755</td>\n",
       "      <td>...</td>\n",
       "      <td>0.211863</td>\n",
       "      <td>-0.356475</td>\n",
       "      <td>-0.676826</td>\n",
       "      <td>-1.105149</td>\n",
       "      <td>1.639706</td>\n",
       "      <td>-0.834975</td>\n",
       "      <td>-0.233451</td>\n",
       "      <td>1.596451</td>\n",
       "      <td>2.013590</td>\n",
       "      <td>-0.156748</td>\n",
       "    </tr>\n",
       "    <tr>\n",
       "      <th>4</th>\n",
       "      <td>-0.151165</td>\n",
       "      <td>2.093484</td>\n",
       "      <td>1.189409</td>\n",
       "      <td>1.068406</td>\n",
       "      <td>0.276160</td>\n",
       "      <td>0.923466</td>\n",
       "      <td>1.005274</td>\n",
       "      <td>1.105413</td>\n",
       "      <td>1.410611</td>\n",
       "      <td>-0.532476</td>\n",
       "      <td>...</td>\n",
       "      <td>1.560670</td>\n",
       "      <td>-0.266914</td>\n",
       "      <td>-0.676826</td>\n",
       "      <td>-1.161571</td>\n",
       "      <td>-0.715033</td>\n",
       "      <td>-0.834975</td>\n",
       "      <td>-0.233451</td>\n",
       "      <td>-0.724647</td>\n",
       "      <td>-0.496625</td>\n",
       "      <td>-0.156748</td>\n",
       "    </tr>\n",
       "  </tbody>\n",
       "</table>\n",
       "<p>5 rows × 38 columns</p>\n",
       "</div>"
      ],
      "text/plain": [
       "       Year       Age        Ht        Wt       BMI         G        GS  \\\n",
       "0  1.196638  0.645551  1.189409  1.448029  0.706525  0.923466  1.005274   \n",
       "1  1.403992 -0.561060 -1.352467 -0.298236  0.778252  0.461179  0.623837   \n",
       "2 -0.358519  0.645551  0.553940 -0.222311 -0.728026 -0.925683 -0.711192   \n",
       "3  1.092961  1.610840  0.553940  0.309160 -0.082478  0.923466  1.005274   \n",
       "4 -0.151165  2.093484  1.189409  1.068406  0.276160  0.923466  1.005274   \n",
       "\n",
       "        Cmp       Att      Cmp%  ...       GWD     Att.1     Yds.2     Y/A.1  \\\n",
       "0  1.533850  1.375902  0.986836  ...  0.886266 -0.177352 -0.186413  0.064312   \n",
       "1  0.321464  0.195808  0.893421  ...  0.211863  3.270778  3.246480  0.982442   \n",
       "2 -1.036772 -1.024779 -0.631178  ... -0.462540 -1.028189 -0.896414 -1.689880   \n",
       "3  1.770858  1.682495  0.764755  ...  0.211863 -0.356475 -0.676826 -1.105149   \n",
       "4  1.105413  1.410611 -0.532476  ...  1.560670 -0.266914 -0.676826 -1.161571   \n",
       "\n",
       "       TD.1     Y/G.1       2PM       Pts        PB       AP1  \n",
       "0 -0.126348 -0.398269 -0.233451 -0.144373 -0.496625 -0.156748  \n",
       "1  1.639706  3.178560  3.660515  1.789876  2.013590 -0.156748  \n",
       "2 -0.715033 -1.011737 -0.233451 -0.724647 -0.496625 -0.156748  \n",
       "3  1.639706 -0.834975 -0.233451  1.596451  2.013590 -0.156748  \n",
       "4 -0.715033 -0.834975 -0.233451 -0.724647 -0.496625 -0.156748  \n",
       "\n",
       "[5 rows x 38 columns]"
      ]
     },
     "execution_count": 5,
     "metadata": {},
     "output_type": "execute_result"
    }
   ],
   "source": [
    "print(df.shape)\n",
    "df.head()"
   ]
  },
  {
   "cell_type": "code",
   "execution_count": 6,
   "metadata": {},
   "outputs": [],
   "source": [
    "del df[\"ANY/A\"]\n",
    "del df[\"AY/A\"]"
   ]
  },
  {
   "cell_type": "code",
   "execution_count": 7,
   "metadata": {},
   "outputs": [
    {
     "name": "stdout",
     "output_type": "stream",
     "text": [
      "(834, 36)\n",
      "(834, 36)\n"
     ]
    }
   ],
   "source": [
    "scaled_features = StandardScaler().fit_transform(df)\n",
    "scaled = pd.DataFrame(scaled_features)\n",
    "print(df.shape)\n",
    "print(scaled.shape)\n",
    "scaled.columns = df.columns"
   ]
  },
  {
   "cell_type": "code",
   "execution_count": 8,
   "metadata": {},
   "outputs": [
    {
     "name": "stdout",
     "output_type": "stream",
     "text": [
      "[0.32531316 0.11927145 0.09812393 0.06288181 0.04378062 0.03570558\n",
      " 0.0346883  0.02990814 0.0287064  0.02708341 0.02602653 0.02412006\n",
      " 0.02152339 0.02070228 0.01625768 0.01584561 0.01420071 0.01170538\n",
      " 0.01024212 0.00823128 0.00656947 0.00441451 0.0035734  0.00301649]\n",
      "(834, 36)\n",
      "(834, 24)\n"
     ]
    }
   ],
   "source": [
    "pca = PCA(.99)\n",
    "pca.fit(scaled_features)\n",
    "reduced_features = pca.transform(scaled_features)\n",
    "print(pca.explained_variance_ratio_)\n",
    "print(df.shape)\n",
    "print(reduced_features.shape)"
   ]
  },
  {
   "cell_type": "code",
   "execution_count": null,
   "metadata": {},
   "outputs": [],
   "source": []
  },
  {
   "cell_type": "code",
   "execution_count": 9,
   "metadata": {},
   "outputs": [],
   "source": [
    "import numpy as np\n",
    "n_pcs = pca.components_.shape[0]\n",
    "most_important = [np.abs(pca.components_[i]).argmax() for i in range(n_pcs)]\n",
    "values = [np.abs(pca.components_[i]).max() for i in range(n_pcs)]\n",
    "feature_names = scaled.columns\n",
    "most_important_names = [feature_names[most_important[i]] for i in range(n_pcs)]\n",
    "dic = {'PC{}'.format(i): most_important_names[i] for i in range(n_pcs)}\n",
    "df = pd.DataFrame(dic.items())"
   ]
  },
  {
   "cell_type": "code",
   "execution_count": 10,
   "metadata": {},
   "outputs": [],
   "source": [
    "df[\"Value\"] = values\n",
    "df[\"Explained Variance\"] = pca.explained_variance_ratio_"
   ]
  },
  {
   "cell_type": "code",
   "execution_count": 11,
   "metadata": {},
   "outputs": [],
   "source": [
    "df = df.rename(columns={0:\"PC\",1:\"Feature\"})"
   ]
  },
  {
   "cell_type": "code",
   "execution_count": 12,
   "metadata": {},
   "outputs": [],
   "source": [
    "df = df[[\"PC\",\"Explained Variance\",\"Feature\",\"Value\"]]"
   ]
  },
  {
   "cell_type": "code",
   "execution_count": 13,
   "metadata": {},
   "outputs": [
    {
     "data": {
      "text/html": [
       "<div>\n",
       "<style scoped>\n",
       "    .dataframe tbody tr th:only-of-type {\n",
       "        vertical-align: middle;\n",
       "    }\n",
       "\n",
       "    .dataframe tbody tr th {\n",
       "        vertical-align: top;\n",
       "    }\n",
       "\n",
       "    .dataframe thead th {\n",
       "        text-align: right;\n",
       "    }\n",
       "</style>\n",
       "<table border=\"1\" class=\"dataframe\">\n",
       "  <thead>\n",
       "    <tr style=\"text-align: right;\">\n",
       "      <th></th>\n",
       "      <th>PC</th>\n",
       "      <th>Explained Variance</th>\n",
       "      <th>Feature</th>\n",
       "      <th>Value</th>\n",
       "    </tr>\n",
       "  </thead>\n",
       "  <tbody>\n",
       "    <tr>\n",
       "      <th>0</th>\n",
       "      <td>PC0</td>\n",
       "      <td>0.325313</td>\n",
       "      <td>Yds</td>\n",
       "      <td>0.280911</td>\n",
       "    </tr>\n",
       "    <tr>\n",
       "      <th>1</th>\n",
       "      <td>PC1</td>\n",
       "      <td>0.119271</td>\n",
       "      <td>Y/G.1</td>\n",
       "      <td>0.393854</td>\n",
       "    </tr>\n",
       "    <tr>\n",
       "      <th>2</th>\n",
       "      <td>PC2</td>\n",
       "      <td>0.098124</td>\n",
       "      <td>Rate</td>\n",
       "      <td>0.348222</td>\n",
       "    </tr>\n",
       "    <tr>\n",
       "      <th>3</th>\n",
       "      <td>PC3</td>\n",
       "      <td>0.062882</td>\n",
       "      <td>Wt</td>\n",
       "      <td>0.580897</td>\n",
       "    </tr>\n",
       "    <tr>\n",
       "      <th>4</th>\n",
       "      <td>PC4</td>\n",
       "      <td>0.043781</td>\n",
       "      <td>Sk%</td>\n",
       "      <td>0.348318</td>\n",
       "    </tr>\n",
       "    <tr>\n",
       "      <th>5</th>\n",
       "      <td>PC5</td>\n",
       "      <td>0.035706</td>\n",
       "      <td>4QC</td>\n",
       "      <td>0.401723</td>\n",
       "    </tr>\n",
       "    <tr>\n",
       "      <th>6</th>\n",
       "      <td>PC6</td>\n",
       "      <td>0.034688</td>\n",
       "      <td>Ht</td>\n",
       "      <td>0.471126</td>\n",
       "    </tr>\n",
       "    <tr>\n",
       "      <th>7</th>\n",
       "      <td>PC7</td>\n",
       "      <td>0.029908</td>\n",
       "      <td>4QC</td>\n",
       "      <td>0.337127</td>\n",
       "    </tr>\n",
       "    <tr>\n",
       "      <th>8</th>\n",
       "      <td>PC8</td>\n",
       "      <td>0.028706</td>\n",
       "      <td>AP1</td>\n",
       "      <td>0.399842</td>\n",
       "    </tr>\n",
       "    <tr>\n",
       "      <th>9</th>\n",
       "      <td>PC9</td>\n",
       "      <td>0.027083</td>\n",
       "      <td>T</td>\n",
       "      <td>0.902926</td>\n",
       "    </tr>\n",
       "    <tr>\n",
       "      <th>10</th>\n",
       "      <td>PC10</td>\n",
       "      <td>0.026027</td>\n",
       "      <td>2PM</td>\n",
       "      <td>0.604933</td>\n",
       "    </tr>\n",
       "    <tr>\n",
       "      <th>11</th>\n",
       "      <td>PC11</td>\n",
       "      <td>0.024120</td>\n",
       "      <td>2PM</td>\n",
       "      <td>0.608965</td>\n",
       "    </tr>\n",
       "    <tr>\n",
       "      <th>12</th>\n",
       "      <td>PC12</td>\n",
       "      <td>0.021523</td>\n",
       "      <td>Age</td>\n",
       "      <td>0.563960</td>\n",
       "    </tr>\n",
       "    <tr>\n",
       "      <th>13</th>\n",
       "      <td>PC13</td>\n",
       "      <td>0.020702</td>\n",
       "      <td>AP1</td>\n",
       "      <td>0.503733</td>\n",
       "    </tr>\n",
       "    <tr>\n",
       "      <th>14</th>\n",
       "      <td>PC14</td>\n",
       "      <td>0.016258</td>\n",
       "      <td>PB</td>\n",
       "      <td>0.607680</td>\n",
       "    </tr>\n",
       "    <tr>\n",
       "      <th>15</th>\n",
       "      <td>PC15</td>\n",
       "      <td>0.015846</td>\n",
       "      <td>Pick6</td>\n",
       "      <td>0.598300</td>\n",
       "    </tr>\n",
       "    <tr>\n",
       "      <th>16</th>\n",
       "      <td>PC16</td>\n",
       "      <td>0.014201</td>\n",
       "      <td>Y/G</td>\n",
       "      <td>0.525070</td>\n",
       "    </tr>\n",
       "    <tr>\n",
       "      <th>17</th>\n",
       "      <td>PC17</td>\n",
       "      <td>0.011705</td>\n",
       "      <td>TD%</td>\n",
       "      <td>0.503293</td>\n",
       "    </tr>\n",
       "    <tr>\n",
       "      <th>18</th>\n",
       "      <td>PC18</td>\n",
       "      <td>0.010242</td>\n",
       "      <td>Y/A.1</td>\n",
       "      <td>0.485901</td>\n",
       "    </tr>\n",
       "    <tr>\n",
       "      <th>19</th>\n",
       "      <td>PC19</td>\n",
       "      <td>0.008231</td>\n",
       "      <td>L</td>\n",
       "      <td>0.476642</td>\n",
       "    </tr>\n",
       "    <tr>\n",
       "      <th>20</th>\n",
       "      <td>PC20</td>\n",
       "      <td>0.006569</td>\n",
       "      <td>Y/A</td>\n",
       "      <td>0.615434</td>\n",
       "    </tr>\n",
       "    <tr>\n",
       "      <th>21</th>\n",
       "      <td>PC21</td>\n",
       "      <td>0.004415</td>\n",
       "      <td>Sk%</td>\n",
       "      <td>0.552546</td>\n",
       "    </tr>\n",
       "    <tr>\n",
       "      <th>22</th>\n",
       "      <td>PC22</td>\n",
       "      <td>0.003573</td>\n",
       "      <td>GWD</td>\n",
       "      <td>0.731483</td>\n",
       "    </tr>\n",
       "    <tr>\n",
       "      <th>23</th>\n",
       "      <td>PC23</td>\n",
       "      <td>0.003016</td>\n",
       "      <td>Int</td>\n",
       "      <td>0.748152</td>\n",
       "    </tr>\n",
       "  </tbody>\n",
       "</table>\n",
       "</div>"
      ],
      "text/plain": [
       "      PC  Explained Variance Feature     Value\n",
       "0    PC0            0.325313     Yds  0.280911\n",
       "1    PC1            0.119271   Y/G.1  0.393854\n",
       "2    PC2            0.098124    Rate  0.348222\n",
       "3    PC3            0.062882      Wt  0.580897\n",
       "4    PC4            0.043781     Sk%  0.348318\n",
       "5    PC5            0.035706     4QC  0.401723\n",
       "6    PC6            0.034688      Ht  0.471126\n",
       "7    PC7            0.029908     4QC  0.337127\n",
       "8    PC8            0.028706     AP1  0.399842\n",
       "9    PC9            0.027083       T  0.902926\n",
       "10  PC10            0.026027     2PM  0.604933\n",
       "11  PC11            0.024120     2PM  0.608965\n",
       "12  PC12            0.021523     Age  0.563960\n",
       "13  PC13            0.020702     AP1  0.503733\n",
       "14  PC14            0.016258      PB  0.607680\n",
       "15  PC15            0.015846   Pick6  0.598300\n",
       "16  PC16            0.014201     Y/G  0.525070\n",
       "17  PC17            0.011705     TD%  0.503293\n",
       "18  PC18            0.010242   Y/A.1  0.485901\n",
       "19  PC19            0.008231       L  0.476642\n",
       "20  PC20            0.006569     Y/A  0.615434\n",
       "21  PC21            0.004415     Sk%  0.552546\n",
       "22  PC22            0.003573     GWD  0.731483\n",
       "23  PC23            0.003016     Int  0.748152"
      ]
     },
     "execution_count": 13,
     "metadata": {},
     "output_type": "execute_result"
    }
   ],
   "source": [
    "df"
   ]
  },
  {
   "cell_type": "code",
   "execution_count": 29,
   "metadata": {},
   "outputs": [
    {
     "data": {
      "text/plain": [
       "8"
      ]
     },
     "execution_count": 29,
     "metadata": {},
     "output_type": "execute_result"
    }
   ],
   "source": [
    "top3 = [np.abs(pca.components_[i]).argsort()[-3:] for i in range(n_pcs)]\n",
    "#[pca.components_[i][top3][i] for i in range(n_pcs)]\n",
    "top3[0]"
   ]
  },
  {
   "cell_type": "code",
   "execution_count": 18,
   "metadata": {},
   "outputs": [
    {
     "data": {
      "text/plain": [
       "(834, 24)"
      ]
     },
     "execution_count": 18,
     "metadata": {},
     "output_type": "execute_result"
    }
   ],
   "source": []
  },
  {
   "cell_type": "code",
   "execution_count": 19,
   "metadata": {},
   "outputs": [
    {
     "name": "stdout",
     "output_type": "stream",
     "text": [
      "(834, 24)\n",
      "(1192, 1)\n"
     ]
    }
   ],
   "source": [
    "print(reduced_features.shape)\n",
    "print(labels.shape)"
   ]
  },
  {
   "cell_type": "code",
   "execution_count": 22,
   "metadata": {},
   "outputs": [
    {
     "name": "stdout",
     "output_type": "stream",
     "text": [
      "(1192, 36)\n",
      "(1192, 1)\n"
     ]
    }
   ],
   "source": [
    "df_txt = pd.read_csv(\"standard_features.txt\")\n",
    "labels = pd.read_csv(\"labels.csv\")\n",
    "print(df_txt.shape)\n",
    "print(labels.shape)"
   ]
  },
  {
   "cell_type": "code",
   "execution_count": 84,
   "metadata": {},
   "outputs": [],
   "source": [
    "nextYear_winRange = []\n",
    "#print(labels.shape[0])\n",
    "for i in range(labels.shape[0]):\n",
    "    if labels.iloc[i,0] <= 3:\n",
    "        nextYear_winRange.append(\"0-3\")\n",
    "    elif labels.iloc[i,0] <= 6:\n",
    "        nextYear_winRange.append(\"4-6\")\n",
    "    elif labels.iloc[i,0] <= 9:\n",
    "        nextYear_winRange.append(\"7-9\")\n",
    "    elif labels.iloc[i,0] <= 12:\n",
    "        nextYear_winRange.append(\"10-12\")\n",
    "    else:\n",
    "        nextYear_winRange.append(\"13-16\")\n",
    "        "
   ]
  },
  {
   "cell_type": "code",
   "execution_count": null,
   "metadata": {},
   "outputs": [],
   "source": []
  },
  {
   "cell_type": "code",
   "execution_count": 85,
   "metadata": {},
   "outputs": [],
   "source": [
    "from sklearn.model_selection import train_test_split\n",
    "Xtrain,Xtest,ytrain,ytest = train_test_split(df_txt,nextYear_winRange,test_size=0.3)"
   ]
  },
  {
   "cell_type": "code",
   "execution_count": 86,
   "metadata": {},
   "outputs": [
    {
     "name": "stdout",
     "output_type": "stream",
     "text": [
      "(834, 36)\n",
      "(834, 36)\n"
     ]
    }
   ],
   "source": [
    "scaled_features = StandardScaler()\n",
    "train_scaled = scaled_features.fit_transform(Xtrain)\n",
    "scaled = pd.DataFrame(train_scaled)\n",
    "print(Xtrain.shape)\n",
    "print(scaled.shape)\n",
    "scaled.columns = Xtrain.columns"
   ]
  },
  {
   "cell_type": "code",
   "execution_count": 87,
   "metadata": {},
   "outputs": [
    {
     "name": "stdout",
     "output_type": "stream",
     "text": [
      "[0.32861636 0.11897019 0.09565287 0.06069323 0.04445337 0.03619183\n",
      " 0.03449914 0.03065506 0.02807856 0.02800543 0.02604137 0.02359005\n",
      " 0.02213493 0.01986712 0.01661837 0.01565268 0.01417334 0.01188874\n",
      " 0.00990377 0.00876221 0.00657995 0.00416581 0.00345488 0.00318717]\n",
      "(834, 36)\n",
      "(834, 24)\n"
     ]
    }
   ],
   "source": [
    "pca = PCA(.99)\n",
    "pca.fit(scaled)\n",
    "reduced_features = pca.transform(scaled)\n",
    "print(pca.explained_variance_ratio_)\n",
    "print(Xtrain.shape)\n",
    "print(reduced_features.shape)"
   ]
  },
  {
   "cell_type": "code",
   "execution_count": 88,
   "metadata": {},
   "outputs": [
    {
     "name": "stdout",
     "output_type": "stream",
     "text": [
      "(358, 36)\n",
      "(358, 24)\n"
     ]
    }
   ],
   "source": [
    "test_scaled = pd.DataFrame(scaled_features.transform(Xtest))\n",
    "test_scaled.columns = Xtest.columns\n",
    "reduced_test_features = pca.transform(test_scaled)\n",
    "print(Xtest.shape)\n",
    "print(reduced_test_features.shape)"
   ]
  },
  {
   "cell_type": "markdown",
   "metadata": {},
   "source": [
    "## Supervised Section"
   ]
  },
  {
   "cell_type": "code",
   "execution_count": 89,
   "metadata": {},
   "outputs": [],
   "source": [
    "from sklearn.linear_model import LogisticRegression\n",
    "from sklearn.metrics import accuracy_score"
   ]
  },
  {
   "cell_type": "code",
   "execution_count": 101,
   "metadata": {},
   "outputs": [
    {
     "name": "stdout",
     "output_type": "stream",
     "text": [
      "Train Accuracy: 0.4616306954436451\n",
      "Test Accuracy: 0.4692737430167598\n",
      "[[0.3082983  0.18303664 0.01585997 0.23314888 0.2596562 ]\n",
      " [0.46241561 0.11648309 0.03653682 0.18620628 0.19835821]\n",
      " [0.53198338 0.19365746 0.00481827 0.21141249 0.05812841]\n",
      " [0.41918465 0.15387839 0.02135758 0.21212022 0.19345916]\n",
      " [0.56078304 0.02570133 0.02899412 0.24937489 0.13514662]]\n"
     ]
    },
    {
     "data": {
      "text/plain": [
       "array([0.37410117, 0.14388163, 0.04436189, 0.19904237, 0.23861295])"
      ]
     },
     "execution_count": 101,
     "metadata": {},
     "output_type": "execute_result"
    }
   ],
   "source": [
    "lr = LogisticRegression()\n",
    "lr.fit(reduced_features,ytrain)\n",
    "ytrain_predict = lr.predict(reduced_features)\n",
    "print(\"Train Accuracy: {}\".format(accuracy_score(ytrain,ytrain_predict)))\n",
    "ytest_predict = lr.predict(reduced_test_features)\n",
    "print(\"Test Accuracy: {}\".format(accuracy_score(ytest,ytest_predict)))\n",
    "\n",
    "probabilities = lr.predict_proba(reduced_features)\n",
    "print(probabilities[0:5])\n",
    "np.average(probabilities,axis=0)"
   ]
  },
  {
   "cell_type": "markdown",
   "metadata": {},
   "source": [
    "### Not Good"
   ]
  },
  {
   "cell_type": "code",
   "execution_count": 102,
   "metadata": {},
   "outputs": [
    {
     "name": "stdout",
     "output_type": "stream",
     "text": [
      "(834, 36)\n",
      "(834, 36)\n",
      "[0.32340509 0.11507412 0.10100924 0.06421699 0.04705574 0.03566075\n",
      " 0.03206222 0.03042106 0.02885474 0.02792907 0.02677767 0.02371951\n",
      " 0.0217271  0.01980141 0.01684516 0.01529032 0.01376286 0.0125159\n",
      " 0.00987918 0.00831969 0.00654896 0.00406505 0.00364068 0.00321312]\n",
      "(834, 36)\n",
      "(834, 24)\n",
      "(358, 36)\n",
      "(358, 24)\n"
     ]
    }
   ],
   "source": [
    "nextYear_winRange = []\n",
    "#print(labels.shape[0])\n",
    "for i in range(labels.shape[0]):\n",
    "    if labels.iloc[i,0] <= 4:\n",
    "        nextYear_winRange.append(\"0-4\")\n",
    "    elif labels.iloc[i,0] <= 8:\n",
    "        nextYear_winRange.append(\"5-8\")\n",
    "    elif labels.iloc[i,0] <= 12:\n",
    "        nextYear_winRange.append(\"9-12\")\n",
    "    else:\n",
    "        nextYear_winRange.append(\"13-16\")\n",
    "\n",
    "Xtrain,Xtest,ytrain,ytest = train_test_split(df_txt,nextYear_winRange,test_size=0.3)\n",
    "\n",
    "scaled_features = StandardScaler()\n",
    "train_scaled = scaled_features.fit_transform(Xtrain)\n",
    "scaled = pd.DataFrame(train_scaled)\n",
    "print(Xtrain.shape)\n",
    "print(scaled.shape)\n",
    "scaled.columns = Xtrain.columns\n",
    "\n",
    "pca = PCA(.99)\n",
    "pca.fit(scaled)\n",
    "reduced_features = pca.transform(scaled)\n",
    "print(pca.explained_variance_ratio_)\n",
    "print(Xtrain.shape)\n",
    "print(reduced_features.shape)\n",
    "\n",
    "test_scaled = pd.DataFrame(scaled_features.transform(Xtest))\n",
    "test_scaled.columns = Xtest.columns\n",
    "reduced_test_features = pca.transform(test_scaled)\n",
    "print(Xtest.shape)\n",
    "print(reduced_test_features.shape)"
   ]
  },
  {
   "cell_type": "code",
   "execution_count": 103,
   "metadata": {},
   "outputs": [
    {
     "name": "stdout",
     "output_type": "stream",
     "text": [
      "Train Accuracy: 0.5539568345323741\n",
      "Test Accuracy: 0.4972067039106145\n",
      "[[0.57883464 0.00412978 0.2777807  0.13925488]\n",
      " [0.84879424 0.00481531 0.12889601 0.01749445]\n",
      " [0.76119588 0.00691808 0.17787418 0.05401185]\n",
      " [0.52415682 0.00825138 0.33209789 0.13549391]\n",
      " [0.8907782  0.00453653 0.09560463 0.00908065]]\n"
     ]
    },
    {
     "data": {
      "text/plain": [
       "array([0.4628299 , 0.03596993, 0.29856076, 0.20263941])"
      ]
     },
     "execution_count": 103,
     "metadata": {},
     "output_type": "execute_result"
    }
   ],
   "source": [
    "lr = LogisticRegression()\n",
    "lr.fit(reduced_features,ytrain)\n",
    "ytrain_predict = lr.predict(reduced_features)\n",
    "print(\"Train Accuracy: {}\".format(accuracy_score(ytrain,ytrain_predict)))\n",
    "ytest_predict = lr.predict(reduced_test_features)\n",
    "print(\"Test Accuracy: {}\".format(accuracy_score(ytest,ytest_predict)))\n",
    "\n",
    "probabilities = lr.predict_proba(reduced_features)\n",
    "print(probabilities[0:5])\n",
    "np.average(probabilities,axis=0)"
   ]
  },
  {
   "cell_type": "markdown",
   "metadata": {},
   "source": [
    "### Also Not Good"
   ]
  },
  {
   "cell_type": "code",
   "execution_count": 104,
   "metadata": {},
   "outputs": [
    {
     "name": "stdout",
     "output_type": "stream",
     "text": [
      "(834, 36)\n",
      "(834, 36)\n",
      "[0.32568109 0.11916829 0.09928878 0.06228238 0.04385884 0.03590421\n",
      " 0.03239378 0.03028264 0.02926801 0.02750678 0.02596957 0.02358037\n",
      " 0.02111127 0.02068198 0.01790245 0.01604645 0.01394919 0.012116\n",
      " 0.00960936 0.00828987 0.00629399 0.00441116 0.00333233 0.00316978]\n",
      "(834, 36)\n",
      "(834, 24)\n",
      "(358, 36)\n",
      "(358, 24)\n"
     ]
    }
   ],
   "source": [
    "nextYear_winRange = []\n",
    "#print(labels.shape[0])\n",
    "for i in range(labels.shape[0]):\n",
    "    if labels.iloc[i,0] <= 5:\n",
    "        nextYear_winRange.append(\"0-5\")\n",
    "    elif labels.iloc[i,0] <= 10:\n",
    "        nextYear_winRange.append(\"6-10\")\n",
    "    else:\n",
    "        nextYear_winRange.append(\"11-16\")\n",
    "\n",
    "Xtrain,Xtest,ytrain,ytest = train_test_split(df_txt,nextYear_winRange,test_size=0.3)\n",
    "\n",
    "scaled_features = StandardScaler()\n",
    "train_scaled = scaled_features.fit_transform(Xtrain)\n",
    "scaled = pd.DataFrame(train_scaled)\n",
    "print(Xtrain.shape)\n",
    "print(scaled.shape)\n",
    "scaled.columns = Xtrain.columns\n",
    "\n",
    "pca = PCA(.99)\n",
    "pca.fit(scaled)\n",
    "reduced_features = pca.transform(scaled)\n",
    "print(pca.explained_variance_ratio_)\n",
    "print(Xtrain.shape)\n",
    "print(reduced_features.shape)\n",
    "\n",
    "test_scaled = pd.DataFrame(scaled_features.transform(Xtest))\n",
    "test_scaled.columns = Xtest.columns\n",
    "reduced_test_features = pca.transform(test_scaled)\n",
    "print(Xtest.shape)\n",
    "print(reduced_test_features.shape)"
   ]
  },
  {
   "cell_type": "code",
   "execution_count": 105,
   "metadata": {},
   "outputs": [
    {
     "name": "stdout",
     "output_type": "stream",
     "text": [
      "Train Accuracy: 0.6235011990407674\n",
      "Test Accuracy: 0.6564245810055865\n",
      "[[0.73412622 0.04118301 0.22469077]\n",
      " [0.50893915 0.07933101 0.41172985]\n",
      " [0.20305932 0.36849638 0.4284443 ]\n",
      " [0.25001646 0.43424418 0.31573936]\n",
      " [0.42541878 0.12527408 0.44930714]]\n"
     ]
    },
    {
     "data": {
      "text/plain": [
       "array([0.50239597, 0.13188479, 0.36571924])"
      ]
     },
     "execution_count": 105,
     "metadata": {},
     "output_type": "execute_result"
    }
   ],
   "source": [
    "lr = LogisticRegression()\n",
    "lr.fit(reduced_features,ytrain)\n",
    "ytrain_predict = lr.predict(reduced_features)\n",
    "print(\"Train Accuracy: {}\".format(accuracy_score(ytrain,ytrain_predict)))\n",
    "ytest_predict = lr.predict(reduced_test_features)\n",
    "print(\"Test Accuracy: {}\".format(accuracy_score(ytest,ytest_predict)))\n",
    "\n",
    "probabilities = lr.predict_proba(reduced_features)\n",
    "print(probabilities[0:5])\n",
    "np.average(probabilities,axis=0)"
   ]
  },
  {
   "cell_type": "code",
   "execution_count": 106,
   "metadata": {},
   "outputs": [
    {
     "name": "stdout",
     "output_type": "stream",
     "text": [
      "(834, 36)\n",
      "(834, 36)\n",
      "[0.32820333 0.11277439 0.09720574 0.06146014 0.04523405 0.03663038\n",
      " 0.03263163 0.03144714 0.02836803 0.02711706 0.02606013 0.0247754\n",
      " 0.02156359 0.02097965 0.01727126 0.01671146 0.01451206 0.01245486\n",
      " 0.01012419 0.00850527 0.00644246 0.00444572 0.00336286 0.0032751 ]\n",
      "(834, 36)\n",
      "(834, 24)\n",
      "(358, 36)\n",
      "(358, 24)\n"
     ]
    }
   ],
   "source": [
    "nextYear_winRange = []\n",
    "#print(labels.shape[0])\n",
    "for i in range(labels.shape[0]):\n",
    "    if labels.iloc[i,0] <= 8:\n",
    "        nextYear_winRange.append(\"0-8\")\n",
    "    else:\n",
    "        nextYear_winRange.append(\"9-16\")\n",
    "\n",
    "Xtrain,Xtest,ytrain,ytest = train_test_split(df_txt,nextYear_winRange,test_size=0.3)\n",
    "\n",
    "scaled_features = StandardScaler()\n",
    "train_scaled = scaled_features.fit_transform(Xtrain)\n",
    "scaled = pd.DataFrame(train_scaled)\n",
    "print(Xtrain.shape)\n",
    "print(scaled.shape)\n",
    "scaled.columns = Xtrain.columns\n",
    "\n",
    "pca = PCA(.99)\n",
    "pca.fit(scaled)\n",
    "reduced_features = pca.transform(scaled)\n",
    "print(pca.explained_variance_ratio_)\n",
    "print(Xtrain.shape)\n",
    "print(reduced_features.shape)\n",
    "\n",
    "test_scaled = pd.DataFrame(scaled_features.transform(Xtest))\n",
    "test_scaled.columns = Xtest.columns\n",
    "reduced_test_features = pca.transform(test_scaled)\n",
    "print(Xtest.shape)\n",
    "print(reduced_test_features.shape)"
   ]
  },
  {
   "cell_type": "code",
   "execution_count": 107,
   "metadata": {},
   "outputs": [
    {
     "name": "stdout",
     "output_type": "stream",
     "text": [
      "Train Accuracy: 0.7709832134292566\n",
      "Test Accuracy: 0.7430167597765364\n",
      "[[0.82901065 0.17098935]\n",
      " [0.90366597 0.09633403]\n",
      " [0.91546558 0.08453442]\n",
      " [0.88413477 0.11586523]\n",
      " [0.90011962 0.09988038]]\n"
     ]
    },
    {
     "data": {
      "text/plain": [
       "array([0.76019248, 0.23980752])"
      ]
     },
     "execution_count": 107,
     "metadata": {},
     "output_type": "execute_result"
    }
   ],
   "source": [
    "lr = LogisticRegression()\n",
    "lr.fit(reduced_features,ytrain)\n",
    "ytrain_predict = lr.predict(reduced_features)\n",
    "print(\"Train Accuracy: {}\".format(accuracy_score(ytrain,ytrain_predict)))\n",
    "ytest_predict = lr.predict(reduced_test_features)\n",
    "print(\"Test Accuracy: {}\".format(accuracy_score(ytest,ytest_predict)))\n",
    "\n",
    "probabilities = lr.predict_proba(reduced_features)\n",
    "print(probabilities[0:5])\n",
    "np.average(probabilities,axis=0)"
   ]
  },
  {
   "cell_type": "code",
   "execution_count": null,
   "metadata": {},
   "outputs": [],
   "source": []
  }
 ],
 "metadata": {
  "colab": {
   "collapsed_sections": [],
   "name": "pca.ipynb",
   "provenance": []
  },
  "kernelspec": {
   "display_name": "Python 3",
   "language": "python",
   "name": "python3"
  },
  "language_info": {
   "codemirror_mode": {
    "name": "ipython",
    "version": 3
   },
   "file_extension": ".py",
   "mimetype": "text/x-python",
   "name": "python",
   "nbconvert_exporter": "python",
   "pygments_lexer": "ipython3",
   "version": "3.7.3"
  }
 },
 "nbformat": 4,
 "nbformat_minor": 1
}
