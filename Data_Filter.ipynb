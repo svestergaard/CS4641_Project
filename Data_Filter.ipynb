{
 "cells": [
  {
   "cell_type": "markdown",
   "metadata": {},
   "source": [
    "# Project Scratchwork"
   ]
  },
  {
   "cell_type": "markdown",
   "metadata": {},
   "source": [
    "**Notes:**\n",
    "\n",
    "Added two columns at the end that are the games played and won for the player in the following season\n",
    "\n",
    "Filtered data so that each row has at least one game started in the current season and the following season\n",
    "\n",
    "Exported to \"filtered_data.csv\""
   ]
  },
  {
   "cell_type": "code",
   "execution_count": 44,
   "metadata": {},
   "outputs": [],
   "source": [
    "import numpy as np\n",
    "import pandas as pd"
   ]
  },
  {
   "cell_type": "code",
   "execution_count": 45,
   "metadata": {},
   "outputs": [],
   "source": [
    "df = pd.read_excel(\"data.xlsx\",header=1)"
   ]
  },
  {
   "cell_type": "code",
   "execution_count": 46,
   "metadata": {},
   "outputs": [
    {
     "data": {
      "text/html": [
       "<div>\n",
       "<style scoped>\n",
       "    .dataframe tbody tr th:only-of-type {\n",
       "        vertical-align: middle;\n",
       "    }\n",
       "\n",
       "    .dataframe tbody tr th {\n",
       "        vertical-align: top;\n",
       "    }\n",
       "\n",
       "    .dataframe thead th {\n",
       "        text-align: right;\n",
       "    }\n",
       "</style>\n",
       "<table border=\"1\" class=\"dataframe\">\n",
       "  <thead>\n",
       "    <tr style=\"text-align: right;\">\n",
       "      <th></th>\n",
       "      <th>Player</th>\n",
       "      <th>Year</th>\n",
       "      <th>Age</th>\n",
       "      <th>Draft</th>\n",
       "      <th>Tm</th>\n",
       "      <th>AV</th>\n",
       "      <th>Ht</th>\n",
       "      <th>Wt</th>\n",
       "      <th>BMI</th>\n",
       "      <th>G</th>\n",
       "      <th>...</th>\n",
       "      <th>XP%</th>\n",
       "      <th>FGM</th>\n",
       "      <th>FGA</th>\n",
       "      <th>FG%</th>\n",
       "      <th>2PM</th>\n",
       "      <th>Sfty</th>\n",
       "      <th>Pts</th>\n",
       "      <th>Yrs</th>\n",
       "      <th>PB</th>\n",
       "      <th>AP1</th>\n",
       "    </tr>\n",
       "  </thead>\n",
       "  <tbody>\n",
       "    <tr>\n",
       "      <th>0</th>\n",
       "      <td>A.J. Feeley\\FeelA.00</td>\n",
       "      <td>2001</td>\n",
       "      <td>24</td>\n",
       "      <td>5-155</td>\n",
       "      <td>PHI</td>\n",
       "      <td>0</td>\n",
       "      <td>6-3</td>\n",
       "      <td>220.0</td>\n",
       "      <td>27.5</td>\n",
       "      <td>1.0</td>\n",
       "      <td>...</td>\n",
       "      <td>NaN</td>\n",
       "      <td>NaN</td>\n",
       "      <td>NaN</td>\n",
       "      <td>NaN</td>\n",
       "      <td>NaN</td>\n",
       "      <td>NaN</td>\n",
       "      <td>0</td>\n",
       "      <td>1</td>\n",
       "      <td>0</td>\n",
       "      <td>0</td>\n",
       "    </tr>\n",
       "    <tr>\n",
       "      <th>1</th>\n",
       "      <td>A.J. Feeley\\FeelA.00</td>\n",
       "      <td>2002</td>\n",
       "      <td>25</td>\n",
       "      <td>5-155</td>\n",
       "      <td>PHI</td>\n",
       "      <td>3</td>\n",
       "      <td>6-3</td>\n",
       "      <td>220.0</td>\n",
       "      <td>27.5</td>\n",
       "      <td>6.0</td>\n",
       "      <td>...</td>\n",
       "      <td>NaN</td>\n",
       "      <td>NaN</td>\n",
       "      <td>NaN</td>\n",
       "      <td>NaN</td>\n",
       "      <td>NaN</td>\n",
       "      <td>NaN</td>\n",
       "      <td>0</td>\n",
       "      <td>1</td>\n",
       "      <td>0</td>\n",
       "      <td>0</td>\n",
       "    </tr>\n",
       "    <tr>\n",
       "      <th>2</th>\n",
       "      <td>A.J. Feeley\\FeelA.00</td>\n",
       "      <td>2004</td>\n",
       "      <td>27</td>\n",
       "      <td>5-155</td>\n",
       "      <td>MIA</td>\n",
       "      <td>1</td>\n",
       "      <td>6-3</td>\n",
       "      <td>220.0</td>\n",
       "      <td>27.5</td>\n",
       "      <td>11.0</td>\n",
       "      <td>...</td>\n",
       "      <td>NaN</td>\n",
       "      <td>NaN</td>\n",
       "      <td>NaN</td>\n",
       "      <td>NaN</td>\n",
       "      <td>NaN</td>\n",
       "      <td>NaN</td>\n",
       "      <td>6</td>\n",
       "      <td>1</td>\n",
       "      <td>0</td>\n",
       "      <td>0</td>\n",
       "    </tr>\n",
       "    <tr>\n",
       "      <th>3</th>\n",
       "      <td>A.J. Feeley\\FeelA.00</td>\n",
       "      <td>2006</td>\n",
       "      <td>29</td>\n",
       "      <td>5-155</td>\n",
       "      <td>PHI</td>\n",
       "      <td>1</td>\n",
       "      <td>6-3</td>\n",
       "      <td>220.0</td>\n",
       "      <td>27.5</td>\n",
       "      <td>2.0</td>\n",
       "      <td>...</td>\n",
       "      <td>NaN</td>\n",
       "      <td>NaN</td>\n",
       "      <td>NaN</td>\n",
       "      <td>NaN</td>\n",
       "      <td>NaN</td>\n",
       "      <td>NaN</td>\n",
       "      <td>0</td>\n",
       "      <td>1</td>\n",
       "      <td>0</td>\n",
       "      <td>0</td>\n",
       "    </tr>\n",
       "    <tr>\n",
       "      <th>4</th>\n",
       "      <td>A.J. Feeley\\FeelA.00</td>\n",
       "      <td>2007</td>\n",
       "      <td>30</td>\n",
       "      <td>5-155</td>\n",
       "      <td>PHI</td>\n",
       "      <td>2</td>\n",
       "      <td>6-3</td>\n",
       "      <td>220.0</td>\n",
       "      <td>27.5</td>\n",
       "      <td>3.0</td>\n",
       "      <td>...</td>\n",
       "      <td>NaN</td>\n",
       "      <td>NaN</td>\n",
       "      <td>NaN</td>\n",
       "      <td>NaN</td>\n",
       "      <td>NaN</td>\n",
       "      <td>NaN</td>\n",
       "      <td>0</td>\n",
       "      <td>1</td>\n",
       "      <td>0</td>\n",
       "      <td>0</td>\n",
       "    </tr>\n",
       "  </tbody>\n",
       "</table>\n",
       "<p>5 rows × 51 columns</p>\n",
       "</div>"
      ],
      "text/plain": [
       "                 Player  Year  Age  Draft   Tm  AV   Ht     Wt   BMI     G  \\\n",
       "0  A.J. Feeley\\FeelA.00  2001   24  5-155  PHI   0  6-3  220.0  27.5   1.0   \n",
       "1  A.J. Feeley\\FeelA.00  2002   25  5-155  PHI   3  6-3  220.0  27.5   6.0   \n",
       "2  A.J. Feeley\\FeelA.00  2004   27  5-155  MIA   1  6-3  220.0  27.5  11.0   \n",
       "3  A.J. Feeley\\FeelA.00  2006   29  5-155  PHI   1  6-3  220.0  27.5   2.0   \n",
       "4  A.J. Feeley\\FeelA.00  2007   30  5-155  PHI   2  6-3  220.0  27.5   3.0   \n",
       "\n",
       "   ...  XP%  FGM  FGA  FG%  2PM  Sfty  Pts  Yrs  PB  AP1  \n",
       "0  ...  NaN  NaN  NaN  NaN  NaN   NaN    0    1   0    0  \n",
       "1  ...  NaN  NaN  NaN  NaN  NaN   NaN    0    1   0    0  \n",
       "2  ...  NaN  NaN  NaN  NaN  NaN   NaN    6    1   0    0  \n",
       "3  ...  NaN  NaN  NaN  NaN  NaN   NaN    0    1   0    0  \n",
       "4  ...  NaN  NaN  NaN  NaN  NaN   NaN    0    1   0    0  \n",
       "\n",
       "[5 rows x 51 columns]"
      ]
     },
     "execution_count": 46,
     "metadata": {},
     "output_type": "execute_result"
    }
   ],
   "source": [
    "df.head()"
   ]
  },
  {
   "cell_type": "code",
   "execution_count": 62,
   "metadata": {},
   "outputs": [],
   "source": [
    "df2 = df[df[\"Att\"] > 30]"
   ]
  },
  {
   "cell_type": "code",
   "execution_count": 51,
   "metadata": {},
   "outputs": [
    {
     "data": {
      "text/plain": [
       "148"
      ]
     },
     "execution_count": 51,
     "metadata": {},
     "output_type": "execute_result"
    }
   ],
   "source": [
    "vals = df2[\"Player\"].value_counts()\n",
    "vals2 = vals[vals > 4]\n",
    "len(vals2)"
   ]
  },
  {
   "cell_type": "code",
   "execution_count": 63,
   "metadata": {},
   "outputs": [
    {
     "data": {
      "text/plain": [
       "(array([191., 133., 135.,  94.,  94.,  84.,  72.,  69.,  65.,  84.,  59.,\n",
       "         77.,  71.,  77.,  91., 112.,  90.,  80.,  64.,  45.,  24.,   9.,\n",
       "          6.,   1.]),\n",
       " array([ 31.,  60.,  89., 118., 147., 176., 205., 234., 263., 292., 321.,\n",
       "        350., 379., 408., 437., 466., 495., 524., 553., 582., 611., 640.,\n",
       "        669., 698., 727.]),\n",
       " <a list of 24 Patch objects>)"
      ]
     },
     "execution_count": 63,
     "metadata": {},
     "output_type": "execute_result"
    },
    {
     "data": {
      "image/png": "[encoded data removed]",
      "text/plain": [
       "<Figure size 432x288 with 1 Axes>"
      ]
     },
     "metadata": {
      "needs_background": "light"
     },
     "output_type": "display_data"
    }
   ],
   "source": [
    "fig,ax = plt.subplots()\n",
    "ax.hist(df2[\"Att\"],bins=24)"
   ]
  },
  {
   "cell_type": "code",
   "execution_count": 80,
   "metadata": {},
   "outputs": [
    {
     "name": "stdout",
     "output_type": "stream",
     "text": [
      "(1847, 51)\n"
     ]
    },
    {
     "data": {
      "text/plain": [
       "(array([201., 144., 142.,  92.,  96.,  79.,  75.,  82.,  63.,  60.,  73.,\n",
       "         71.,  86.,  85., 498.]),\n",
       " array([ 1.,  2.,  3.,  4.,  5.,  6.,  7.,  8.,  9., 10., 11., 12., 13.,\n",
       "        14., 15., 16.]),\n",
       " <a list of 15 Patch objects>)"
      ]
     },
     "execution_count": 80,
     "metadata": {},
     "output_type": "execute_result"
    },
    {
     "data": {
      "image/png": "[encoded data removed]",
      "text/plain": [
       "<Figure size 432x288 with 1 Axes>"
      ]
     },
     "metadata": {
      "needs_background": "light"
     },
     "output_type": "display_data"
    }
   ],
   "source": [
    "fig,ax = plt.subplots()\n",
    "df4 = df[df[\"GS\"]>=1]\n",
    "print(df4.shape)\n",
    "ax.hist(df4[\"GS\"],bins=15)"
   ]
  },
  {
   "cell_type": "code",
   "execution_count": 65,
   "metadata": {},
   "outputs": [
    {
     "data": {
      "text/plain": [
       "(array([531., 353., 283., 251., 182., 131.,  60.,  26.,   5.,   5.]),\n",
       " array([ 0.,  5., 10., 15., 20., 25., 30., 35., 40., 45., 50.]),\n",
       " <a list of 10 Patch objects>)"
      ]
     },
     "execution_count": 65,
     "metadata": {},
     "output_type": "execute_result"
    },
    {
     "data": {
      "image/png": "[encoded data removed]",
      "text/plain": [
       "<Figure size 432x288 with 1 Axes>"
      ]
     },
     "metadata": {
      "needs_background": "light"
     },
     "output_type": "display_data"
    }
   ],
   "source": [
    "fig, ax = plt.subplots()\n",
    "ax.hist(df2[\"TD\"])"
   ]
  },
  {
   "cell_type": "code",
   "execution_count": 111,
   "metadata": {},
   "outputs": [],
   "source": [
    "for i in range(df.shape[0]):\n",
    "    year = df.loc[i,\"Year\"]\n",
    "    nextYear = np.where((df[\"Year\"]==(year+1)) & (df[\"Player\"]==df.loc[i,\"Player\"]))\n",
    "    if len(nextYear[0]) > 0:\n",
    "        df.loc[i,\"nextYearWins\"] = df.loc[nextYear[0][0],\"W\"]\n",
    "        df.loc[i,\"nextYearGames\"] = df.loc[nextYear[0][0],\"GS\"]"
   ]
  },
  {
   "cell_type": "code",
   "execution_count": 112,
   "metadata": {},
   "outputs": [
    {
     "data": {
      "text/html": [
       "<div>\n",
       "<style scoped>\n",
       "    .dataframe tbody tr th:only-of-type {\n",
       "        vertical-align: middle;\n",
       "    }\n",
       "\n",
       "    .dataframe tbody tr th {\n",
       "        vertical-align: top;\n",
       "    }\n",
       "\n",
       "    .dataframe thead th {\n",
       "        text-align: right;\n",
       "    }\n",
       "</style>\n",
       "<table border=\"1\" class=\"dataframe\">\n",
       "  <thead>\n",
       "    <tr style=\"text-align: right;\">\n",
       "      <th></th>\n",
       "      <th>Player</th>\n",
       "      <th>Year</th>\n",
       "      <th>Age</th>\n",
       "      <th>Draft</th>\n",
       "      <th>Tm</th>\n",
       "      <th>AV</th>\n",
       "      <th>Ht</th>\n",
       "      <th>Wt</th>\n",
       "      <th>BMI</th>\n",
       "      <th>G</th>\n",
       "      <th>...</th>\n",
       "      <th>FG%</th>\n",
       "      <th>2PM</th>\n",
       "      <th>Sfty</th>\n",
       "      <th>Pts</th>\n",
       "      <th>Yrs</th>\n",
       "      <th>PB</th>\n",
       "      <th>AP1</th>\n",
       "      <th>nextYear</th>\n",
       "      <th>nextYearWins</th>\n",
       "      <th>nextYearGames</th>\n",
       "    </tr>\n",
       "  </thead>\n",
       "  <tbody>\n",
       "    <tr>\n",
       "      <th>0</th>\n",
       "      <td>A.J. Feeley\\FeelA.00</td>\n",
       "      <td>2001</td>\n",
       "      <td>24</td>\n",
       "      <td>5-155</td>\n",
       "      <td>PHI</td>\n",
       "      <td>0</td>\n",
       "      <td>6-3</td>\n",
       "      <td>220.0</td>\n",
       "      <td>27.5</td>\n",
       "      <td>1.0</td>\n",
       "      <td>...</td>\n",
       "      <td>NaN</td>\n",
       "      <td>NaN</td>\n",
       "      <td>NaN</td>\n",
       "      <td>0</td>\n",
       "      <td>1</td>\n",
       "      <td>0</td>\n",
       "      <td>0</td>\n",
       "      <td>4.0</td>\n",
       "      <td>4.0</td>\n",
       "      <td>5.0</td>\n",
       "    </tr>\n",
       "    <tr>\n",
       "      <th>1</th>\n",
       "      <td>A.J. Feeley\\FeelA.00</td>\n",
       "      <td>2002</td>\n",
       "      <td>25</td>\n",
       "      <td>5-155</td>\n",
       "      <td>PHI</td>\n",
       "      <td>3</td>\n",
       "      <td>6-3</td>\n",
       "      <td>220.0</td>\n",
       "      <td>27.5</td>\n",
       "      <td>6.0</td>\n",
       "      <td>...</td>\n",
       "      <td>NaN</td>\n",
       "      <td>NaN</td>\n",
       "      <td>NaN</td>\n",
       "      <td>0</td>\n",
       "      <td>1</td>\n",
       "      <td>0</td>\n",
       "      <td>0</td>\n",
       "      <td>0.0</td>\n",
       "      <td>NaN</td>\n",
       "      <td>NaN</td>\n",
       "    </tr>\n",
       "    <tr>\n",
       "      <th>2</th>\n",
       "      <td>A.J. Feeley\\FeelA.00</td>\n",
       "      <td>2004</td>\n",
       "      <td>27</td>\n",
       "      <td>5-155</td>\n",
       "      <td>MIA</td>\n",
       "      <td>1</td>\n",
       "      <td>6-3</td>\n",
       "      <td>220.0</td>\n",
       "      <td>27.5</td>\n",
       "      <td>11.0</td>\n",
       "      <td>...</td>\n",
       "      <td>NaN</td>\n",
       "      <td>NaN</td>\n",
       "      <td>NaN</td>\n",
       "      <td>6</td>\n",
       "      <td>1</td>\n",
       "      <td>0</td>\n",
       "      <td>0</td>\n",
       "      <td>0.0</td>\n",
       "      <td>NaN</td>\n",
       "      <td>NaN</td>\n",
       "    </tr>\n",
       "    <tr>\n",
       "      <th>3</th>\n",
       "      <td>A.J. Feeley\\FeelA.00</td>\n",
       "      <td>2006</td>\n",
       "      <td>29</td>\n",
       "      <td>5-155</td>\n",
       "      <td>PHI</td>\n",
       "      <td>1</td>\n",
       "      <td>6-3</td>\n",
       "      <td>220.0</td>\n",
       "      <td>27.5</td>\n",
       "      <td>2.0</td>\n",
       "      <td>...</td>\n",
       "      <td>NaN</td>\n",
       "      <td>NaN</td>\n",
       "      <td>NaN</td>\n",
       "      <td>0</td>\n",
       "      <td>1</td>\n",
       "      <td>0</td>\n",
       "      <td>0</td>\n",
       "      <td>0.0</td>\n",
       "      <td>0.0</td>\n",
       "      <td>2.0</td>\n",
       "    </tr>\n",
       "    <tr>\n",
       "      <th>4</th>\n",
       "      <td>A.J. Feeley\\FeelA.00</td>\n",
       "      <td>2007</td>\n",
       "      <td>30</td>\n",
       "      <td>5-155</td>\n",
       "      <td>PHI</td>\n",
       "      <td>2</td>\n",
       "      <td>6-3</td>\n",
       "      <td>220.0</td>\n",
       "      <td>27.5</td>\n",
       "      <td>3.0</td>\n",
       "      <td>...</td>\n",
       "      <td>NaN</td>\n",
       "      <td>NaN</td>\n",
       "      <td>NaN</td>\n",
       "      <td>0</td>\n",
       "      <td>1</td>\n",
       "      <td>0</td>\n",
       "      <td>0</td>\n",
       "      <td>0.0</td>\n",
       "      <td>NaN</td>\n",
       "      <td>NaN</td>\n",
       "    </tr>\n",
       "  </tbody>\n",
       "</table>\n",
       "<p>5 rows × 54 columns</p>\n",
       "</div>"
      ],
      "text/plain": [
       "                 Player  Year  Age  Draft   Tm  AV   Ht     Wt   BMI     G  \\\n",
       "0  A.J. Feeley\\FeelA.00  2001   24  5-155  PHI   0  6-3  220.0  27.5   1.0   \n",
       "1  A.J. Feeley\\FeelA.00  2002   25  5-155  PHI   3  6-3  220.0  27.5   6.0   \n",
       "2  A.J. Feeley\\FeelA.00  2004   27  5-155  MIA   1  6-3  220.0  27.5  11.0   \n",
       "3  A.J. Feeley\\FeelA.00  2006   29  5-155  PHI   1  6-3  220.0  27.5   2.0   \n",
       "4  A.J. Feeley\\FeelA.00  2007   30  5-155  PHI   2  6-3  220.0  27.5   3.0   \n",
       "\n",
       "   ...  FG%  2PM  Sfty  Pts  Yrs  PB  AP1  nextYear  nextYearWins  \\\n",
       "0  ...  NaN  NaN   NaN    0    1   0    0       4.0           4.0   \n",
       "1  ...  NaN  NaN   NaN    0    1   0    0       0.0           NaN   \n",
       "2  ...  NaN  NaN   NaN    6    1   0    0       0.0           NaN   \n",
       "3  ...  NaN  NaN   NaN    0    1   0    0       0.0           0.0   \n",
       "4  ...  NaN  NaN   NaN    0    1   0    0       0.0           NaN   \n",
       "\n",
       "   nextYearGames  \n",
       "0            5.0  \n",
       "1            NaN  \n",
       "2            NaN  \n",
       "3            2.0  \n",
       "4            NaN  \n",
       "\n",
       "[5 rows x 54 columns]"
      ]
     },
     "execution_count": 112,
     "metadata": {},
     "output_type": "execute_result"
    }
   ],
   "source": [
    "df.head()"
   ]
  },
  {
   "cell_type": "code",
   "execution_count": 113,
   "metadata": {},
   "outputs": [
    {
     "data": {
      "text/plain": [
       "(array([335., 174.,  62., 117.,  59., 104., 106.,  59., 142., 442.]),\n",
       " array([ 0. ,  1.6,  3.2,  4.8,  6.4,  8. ,  9.6, 11.2, 12.8, 14.4, 16. ]),\n",
       " <a list of 10 Patch objects>)"
      ]
     },
     "execution_count": 113,
     "metadata": {},
     "output_type": "execute_result"
    },
    {
     "data": {
      "image/png": "[encoded data removed]",
      "text/plain": [
       "<Figure size 432x288 with 1 Axes>"
      ]
     },
     "metadata": {
      "needs_background": "light"
     },
     "output_type": "display_data"
    }
   ],
   "source": [
    "fig,ax = plt.subplots()\n",
    "ax.hist(df[\"nextYearGames\"])"
   ]
  },
  {
   "cell_type": "code",
   "execution_count": 118,
   "metadata": {},
   "outputs": [
    {
     "data": {
      "text/plain": [
       "(1212, 54)"
      ]
     },
     "execution_count": 118,
     "metadata": {},
     "output_type": "execute_result"
    }
   ],
   "source": [
    "df5 = df[(df[\"nextYearGames\"]>0) & (df[\"GS\"]>0)]\n",
    "df5.shape"
   ]
  },
  {
   "cell_type": "code",
   "execution_count": 117,
   "metadata": {},
   "outputs": [
    {
     "data": {
      "text/plain": [
       "266"
      ]
     },
     "execution_count": 117,
     "metadata": {},
     "output_type": "execute_result"
    }
   ],
   "source": [
    "len(df5[\"Player\"].unique())"
   ]
  },
  {
   "cell_type": "code",
   "execution_count": 120,
   "metadata": {},
   "outputs": [],
   "source": [
    "df5.to_csv(\"filtered_data1.csv\")"
   ]
  },
  {
   "cell_type": "code",
   "execution_count": null,
   "metadata": {},
   "outputs": [],
   "source": []
  }
 ],
 "metadata": {
  "kernelspec": {
   "display_name": "Python 3",
   "language": "python",
   "name": "python3"
  },
  "language_info": {
   "codemirror_mode": {
    "name": "ipython",
    "version": 3
   },
   "file_extension": ".py",
   "mimetype": "text/x-python",
   "name": "python",
   "nbconvert_exporter": "python",
   "pygments_lexer": "ipython3",
   "version": "3.7.3"
  }
 },
 "nbformat": 4,
 "nbformat_minor": 2
}
