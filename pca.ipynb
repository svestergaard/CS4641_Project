{
  "nbformat": 4,
  "nbformat_minor": 0,
  "metadata": {
    "colab": {
      "name": "pca.ipynb",
      "provenance": [],
      "collapsed_sections": []
    },
    "kernelspec": {
      "name": "python3",
      "display_name": "Python 3"
    }
  },
  "cells": [
    {
      "cell_type": "code",
      "metadata": {
        "id": "IgfxPUamHUon",
        "outputId": "2220bdde-f508-4535-942a-1a873424382c",
        "colab": {
          "base_uri": "https://localhost:8080/",
          "height": 128
        }
      },
      "source": [
        "#PCA with scaling\n",
        "\n",
        "import pandas as pd\n",
        "from sklearn.preprocessing import StandardScaler\n",
        "from sklearn.decomposition import PCA\n",
        "\n",
        "features = pd.read_csv(\"features.csv\")\n",
        "labels = pd.read_csv(\"labels.csv\")\n",
        "\n",
        "scaled_features = StandardScaler().fit_transform(features)\n",
        "pca = PCA(.99)\n",
        "pca.fit(scaled_features)\n",
        "reduced_features = pca.transform(scaled_features)\n",
        "print(pca.explained_variance_ratio_)\n",
        "print(features.shape)\n",
        "print(reduced_features.shape)\n",
        "pd.DataFrame(reduced_features).to_csv(\"reduced_features.csv\", index=False)"
      ],
      "execution_count": 15,
      "outputs": [
        {
          "output_type": "stream",
          "text": [
            "[0.3275794  0.1257762  0.10568402 0.05863195 0.04475674 0.03361112\n",
            " 0.03214146 0.02888541 0.02843898 0.02562268 0.02502078 0.02301277\n",
            " 0.02105718 0.01952697 0.0158941  0.01574302 0.0137743  0.0116017\n",
            " 0.00948355 0.0081536  0.00686005 0.00419308 0.00336021 0.00319655]\n",
            "(1192, 38)\n",
            "(1192, 24)\n"
          ],
          "name": "stdout"
        }
      ]
    },
    {
      "cell_type": "code",
      "metadata": {
        "id": "gyFvMNArLmxf",
        "outputId": "e4df1a1d-e3cb-49ce-e76e-a410cf7811ed",
        "colab": {
          "base_uri": "https://localhost:8080/",
          "height": 73
        }
      },
      "source": [
        "#PCA without scaling\n",
        "\n",
        "import pandas as pd\n",
        "from sklearn.preprocessing import StandardScaler\n",
        "from sklearn.decomposition import PCA\n",
        "\n",
        "features = pd.read_csv(\"features.csv\")\n",
        "labels = pd.read_csv(\"labels.csv\")\n",
        "\n",
        "pca = PCA(.99)\n",
        "pca.fit(features)\n",
        "reduced_features = pca.transform(features)\n",
        "print(pca.explained_variance_ratio_)\n",
        "print(features.shape)\n",
        "print(reduced_features.shape)\n",
        "pd.DataFrame(reduced_features).to_csv(\"reduced_features.csv\", index=False)"
      ],
      "execution_count": 16,
      "outputs": [
        {
          "output_type": "stream",
          "text": [
            "[0.98562937 0.00987983]\n",
            "(1192, 38)\n",
            "(1192, 2)\n"
          ],
          "name": "stdout"
        }
      ]
    }
  ]
}